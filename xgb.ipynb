{
 "cells": [
  {
   "cell_type": "code",
   "execution_count": null,
   "id": "8fa2d924",
   "metadata": {},
   "outputs": [],
   "source": [
    "import numpy as np\n",
    "from sklearn.preprocessing import StandardScaler\n",
    "from sklearn.model_selection import StratifiedKFold \n",
    "from xgboost import XGBClassifier  \n",
    "from sklearn.metrics import accuracy_score \n"
   ]
  },
  {
   "cell_type": "code",
   "execution_count": 1,
   "id": "df008ee3",
   "metadata": {},
   "outputs": [],
   "source": [
    "import pandas as pd\n",
    "treino_df_arrumado = pd.read_csv('data/treino_preprocessado.csv')\n",
    "teste_df_arrumado = pd.read_csv('data/teste_preprocessado.csv')"
   ]
  },
  {
   "cell_type": "code",
   "execution_count": null,
   "id": "eb290caf",
   "metadata": {},
   "outputs": [],
   "source": [
    "feature_treino = treino_df_arrumado.iloc[:, :-1]\n",
    "label_treino = treino_df_arrumado.iloc[:, -1]\n",
    "feature_teste = teste_df_arrumado.iloc[:, :-1]\n",
    "label_teste = teste_df_arrumado.iloc[:, -1]\n",
    "\n",
    "\n",
    "scaler = StandardScaler()\n",
    "feature_treino_scaled = scaler.fit_transform(feature_treino)\n",
    "\n",
    "\n",
    "feature_teste_scaled = scaler.transform(feature_teste)"
   ]
  },
  {
   "cell_type": "code",
   "execution_count": null,
   "id": "245fa1c1",
   "metadata": {},
   "outputs": [],
   "source": [
    "\n",
    "\n",
    "model = XGBClassifier()\n",
    "\n",
    "kf = StratifiedKFold(n_splits=5, shuffle=True)\n",
    "\n",
    "cross_val_scores = []\n",
    "\n",
    "for train_index, val_index in kf.split(feature_treino_scaled, label_treino):\n",
    "    X_train, X_val = feature_treino_scaled[train_index], feature_treino_scaled[val_index]\n",
    "    y_train, y_val = label_treino.iloc[train_index], label_treino.iloc[val_index]\n",
    "\n",
    "    model.fit(X_train, y_train)\n",
    "\n",
    "    y_pred = model.predict(X_val)\n",
    "\n",
    "    accuracy = accuracy_score(y_val, y_pred)\n",
    "    cross_val_scores.append(accuracy)\n",
    "\n",
    "print(f'Média da acurácia da validação cruzada: {np.mean(cross_val_scores):.4f}')\n",
    "print(f'Desvio padrão da acurácia: {np.std(cross_val_scores):.4f}')\n",
    "\n",
    "model.fit(feature_treino_scaled, label_treino)\n",
    "\n",
    "y_teste_pred = model.predict(feature_teste_scaled)\n",
    "teste_accuracy = accuracy_score(label_teste, y_teste_pred)\n",
    "\n",
    "print(f'Acurácia no conjunto de teste: {teste_accuracy:.4f}')\n",
    "\n"
   ]
  },
  {
   "cell_type": "code",
   "execution_count": null,
   "id": "6012dcb3",
   "metadata": {},
   "outputs": [],
   "source": [
    "import matplotlib.pyplot as plt\n",
    "import seaborn as sns\n",
    "from sklearn.metrics import confusion_matrix, roc_curve, auc\n",
    "from sklearn.preprocessing import label_binarize\n",
    "from sklearn.metrics import roc_auc_score\n",
    "\n",
    "# Prevendo as probabilidades para calcular a Curva ROC (não apenas as classes)\n",
    "y_teste_prob = model.predict_proba(feature_teste_scaled)\n",
    "\n",
    "# Binarizando as labels para multi-classe (one-vs-rest)\n",
    "y_teste_binarized = label_binarize(label_teste, classes=[0, 1, 2, 3, 4])\n",
    "\n",
    "# Calculando a Curva ROC e a AUC para cada classe\n",
    "fpr, tpr, roc_auc = {}, {}, {}\n",
    "\n",
    "plt.figure(figsize=(10, 8))\n",
    "for i in range(5):\n",
    "    fpr[i], tpr[i], _ = roc_curve(y_teste_binarized[:, i], y_teste_prob[:, i])\n",
    "    roc_auc[i] = auc(fpr[i], tpr[i])\n",
    "    plt.plot(fpr[i], tpr[i], lw=2, label=f'Classe {i} (AUC = {roc_auc[i]:.2f})')\n",
    "\n",
    "# Curva ROC para todas as classes\n",
    "plt.plot([0, 1], [0, 1], color='gray', linestyle='--')\n",
    "plt.xlabel('Taxa de Falsos Positivos')\n",
    "plt.ylabel('Taxa de Verdadeiros Positivos')\n",
    "plt.title('Curva ROC para cada classe')\n",
    "plt.legend(loc='lower right')\n",
    "plt.show()\n",
    "\n",
    "# Matriz de Confusão\n",
    "y_teste_pred = model.predict(feature_teste_scaled)\n",
    "\n",
    "# Gerando a Matriz de Confusão\n",
    "cm = confusion_matrix(label_teste, y_teste_pred)\n",
    "\n",
    "# Plotando a Matriz de Confusão com o seaborn\n",
    "plt.figure(figsize=(8, 6))\n",
    "sns.heatmap(cm, annot=True, fmt='d', cmap='Blues', xticklabels=[0, 1, 2, 3, 4], yticklabels=[0, 1, 2, 3, 4])\n",
    "plt.xlabel('Previsões')\n",
    "plt.ylabel('Rótulos Reais')\n",
    "plt.title('Matriz de Confusão')\n",
    "plt.show()\n",
    "\n",
    "# Calculando a Acurácia no conjunto de teste (para referência)\n",
    "teste_accuracy = accuracy_score(label_teste, y_teste_pred)\n",
    "print(f'Acurácia no conjunto de teste: {teste_accuracy:.4f}')\n"
   ]
  }
 ],
 "metadata": {
  "kernelspec": {
   "display_name": ".env",
   "language": "python",
   "name": "python3"
  },
  "language_info": {
   "codemirror_mode": {
    "name": "ipython",
    "version": 3
   },
   "file_extension": ".py",
   "mimetype": "text/x-python",
   "name": "python",
   "nbconvert_exporter": "python",
   "pygments_lexer": "ipython3",
   "version": "3.9.21"
  }
 },
 "nbformat": 4,
 "nbformat_minor": 5
}
